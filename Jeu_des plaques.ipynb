{
 "cells": [
  {
   "cell_type": "code",
   "execution_count": 1,
   "id": "f050a98f",
   "metadata": {},
   "outputs": [],
   "source": [
    "import random\n",
    "nbre=random.randint(100, 999)\n",
    "#print('Le nombre choisi par le programme est:',nbre)"
   ]
  },
  {
   "cell_type": "code",
   "execution_count": 2,
   "id": "d9c3e0d0",
   "metadata": {},
   "outputs": [],
   "source": [
    "sac1=[1,2,3,4,5,6,7,8,9,10]\n",
    "sac2=[1,2,3,4,5,6,7,8,9,10]\n",
    "sac3=[25,50,75,100]"
   ]
  },
  {
   "cell_type": "code",
   "execution_count": 4,
   "id": "5260e03a",
   "metadata": {},
   "outputs": [
    {
     "name": "stdout",
     "output_type": "stream",
     "text": [
      "Faite votre choix! Entrez 1 pour le sac 1, 2 pour le sac 2 et 3 pour le sac 3: 2\n",
      "Faite votre choix! Entrez 1 pour le sac 1, 2 pour le sac 2 et 3 pour le sac 3: 3\n",
      "Faite votre choix! Entrez 1 pour le sac 1, 2 pour le sac 2 et 3 pour le sac 3: 3\n",
      "Faite votre choix! Entrez 1 pour le sac 1, 2 pour le sac 2 et 3 pour le sac 3: 1\n",
      "Faite votre choix! Entrez 1 pour le sac 1, 2 pour le sac 2 et 3 pour le sac 3: 2\n",
      "Faite votre choix! Entrez 1 pour le sac 1, 2 pour le sac 2 et 3 pour le sac 3: 2\n",
      "La liste des nombre que vous avez choisie est : [9, 75, 50, 1, 7, 2]\n"
     ]
    }
   ],
   "source": [
    "#Faire le choix aléatoire entre les sac\n",
    "listA=[]\n",
    "valid=False\n",
    "while not valid:\n",
    "    try:\n",
    "        for i in range(0,6):\n",
    "            a=input(\"Faite votre choix! Entrez 1 pour le sac 1, 2 pour le sac 2 et 3 pour le sac 3: \")\n",
    "            a=int(a)\n",
    "            if a==1:\n",
    "                choix=random.choice(sac1)\n",
    "                sac1.remove(choix)\n",
    "            elif a==2:\n",
    "                choix=random.choice(sac2)\n",
    "                sac2.remove(choix)\n",
    "            elif a==3:\n",
    "                if not sac3:\n",
    "                    print(\"Vous ne pouvez plus choisir dans le sac 3 choississez dans le sac 1 ou 2 à partir de maintenant \")\n",
    "                    sac3.remove(choix)\n",
    "                else:\n",
    "                    choix=random.choice(sac3)\n",
    "                    sac3.remove(choix)\n",
    "            else:\n",
    "                print('Vous devez choisir un nombre compris entre 1 et 3')\n",
    "            listA.append(choix)\n",
    "        valid=True\n",
    "    except ValueError:\n",
    "        print(\"Oups!!!!!! La valeur que vous avez saisie n'est pas un entier.\\nEntrez un NOMBRE ENTIER pour pouvoir continuer\")\n",
    "    \n",
    "    \n",
    "print('La liste des nombre que vous avez choisie est :',listA)\n",
    "        "
   ]
  },
  {
   "cell_type": "code",
   "execution_count": 5,
   "id": "57ebc88d",
   "metadata": {},
   "outputs": [
    {
     "name": "stdout",
     "output_type": "stream",
     "text": [
      "['-', '*', '/', '*', '*']\n"
     ]
    }
   ],
   "source": [
    "#Faire le choix aléatoire des opérateurs\n",
    "list_oper=[]\n",
    "oper=['+','-','*','/']\n",
    "for i in range(0,5):\n",
    "    choix_op=random.choice(oper)\n",
    "    list_oper.append(choix_op)\n",
    "print(list_oper)"
   ]
  },
  {
   "cell_type": "code",
   "execution_count": 6,
   "id": "54459b47",
   "metadata": {},
   "outputs": [
    {
     "name": "stdout",
     "output_type": "stream",
     "text": [
      "Choissisez l'opérateur que vous voulez selon l'index des opérateur. Les index débutent par O : 0\n",
      "Choissisez l'opérateur que vous voulez selon l'index des opérateur. Les index débutent par O : 1\n",
      "Choissisez l'opérateur que vous voulez selon l'index des opérateur. Les index débutent par O : 4\n",
      "Choissisez l'opérateur que vous voulez selon l'index des opérateur. Les index débutent par O : 2\n",
      "Choissisez l'opérateur que vous voulez selon l'index des opérateur. Les index débutent par O : 3\n",
      "-942.8571428571429\n"
     ]
    }
   ],
   "source": [
    "nbr=listA[0]\n",
    "for i in range(0,5):\n",
    "    #print(list[i+1])\n",
    "    a=int(input(\"Choissisez l'opérateur que vous voulez selon l'index des opérateur. Les index débutent par O : \"))\n",
    "    if list_oper[a]== \"+\":\n",
    "        nbr=nbr+listA[i+1]\n",
    "    elif list_oper[a]=='-':\n",
    "        nbr=nbr-listA[i+1]\n",
    "    elif list_oper[a]=='*':\n",
    "        nbr=nbr*listA[i+1]\n",
    "    elif list_oper[a]=='/':\n",
    "        nbr=nbr/listA[i+1]\n",
    "    else:\n",
    "        print('Merci')  \n",
    "print(nbr)\n",
    "    \n",
    "        "
   ]
  },
  {
   "cell_type": "code",
   "execution_count": null,
   "id": "825f004c",
   "metadata": {},
   "outputs": [],
   "source": []
  }
 ],
 "metadata": {
  "kernelspec": {
   "display_name": "Python 3",
   "language": "python",
   "name": "python3"
  },
  "language_info": {
   "codemirror_mode": {
    "name": "ipython",
    "version": 3
   },
   "file_extension": ".py",
   "mimetype": "text/x-python",
   "name": "python",
   "nbconvert_exporter": "python",
   "pygments_lexer": "ipython3",
   "version": "3.8.8"
  }
 },
 "nbformat": 4,
 "nbformat_minor": 5
}
