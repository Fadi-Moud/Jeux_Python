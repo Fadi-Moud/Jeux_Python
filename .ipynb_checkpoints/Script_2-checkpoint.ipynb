{
 "cells": [
  {
   "cell_type": "code",
   "execution_count": 1,
   "id": "dad02276",
   "metadata": {},
   "outputs": [
    {
     "name": "stdout",
     "output_type": "stream",
     "text": [
      "L'effectif de la liste est:  30\n",
      "[2, 7, 5, 4, 8, 19, 0, 4, 9, 17, 15, 16, 6, 20, 15, 20, 2, 9, 17, 11, 20, 0, 12, 1, 4, 3, 2, 17, 3, 13]\n"
     ]
    }
   ],
   "source": [
    "import random\n",
    "list_note=[]\n",
    "for i in range(0,30):\n",
    "    nbre=random.randint(0, 20)\n",
    "    list_note.append(nbre)\n",
    "    \n",
    "print(\"L'effectif de la liste est: \",len(list_note))\n",
    "print(list_note)"
   ]
  },
  {
   "cell_type": "code",
   "execution_count": 2,
   "id": "36600db5",
   "metadata": {},
   "outputs": [],
   "source": [
    "list_mentions=[]\n",
    "#list_noms=[\"boko\",\"abé\",\"sophi\",\"ani\",\"flor\",\"pino\",\"picha\",\"turbo\",\"pinold\",\"richa\",\"tabri\",\"calpi\",\"fadi\",\"momo\",\"baké\",\"toto\",\"tami\",\"ino\",\"vani\",\"adbi\",\"fèmi\",\"iro\",\"wasso\",\"phina\",\"moucha\",\"nina\",\"afi\",\"viavi\",\"chérifa\",\"sonia\"]\n"
   ]
  },
  {
   "cell_type": "code",
   "execution_count": 4,
   "id": "d2b59bc3",
   "metadata": {},
   "outputs": [
    {
     "name": "stdout",
     "output_type": "stream",
     "text": [
      "La liste des notes est: [2, 7, 5, 4, 8, 19, 0, 4, 9, 17, 15, 16, 6, 20, 15, 20, 2, 9, 17, 11, 20, 0, 12, 1, 4, 3, 2, 17, 3, 13]\n",
      "La liste des mentions associés est: ['Médiocre', 'Faible', 'Faible', 'Médiocre', 'Faible', 'Excellent', 'Médiocre', 'Médiocre', 'Faible', 'Très bien', 'Bien', 'Très bien', 'Faible', 'Excellent', 'Bien', 'Excellent', 'Médiocre', 'Faible', 'Très bien', 'Passable', 'Excellent', 'Médiocre', 'Assez-bien', 'Médiocre', 'Médiocre', 'Médiocre', 'Médiocre', 'Très bien', 'Médiocre', 'Assez-bien']\n",
      "Notes:[2, 7, 5, 4, 8, 19, 0, 4, 9, 17, 15, 16, 6, 20, 15, 20, 2, 9, 17, 11, 20, 0, 12, 1, 4, 3, 2, 17, 3, 13]\n",
      "Mentions:['Médiocre', 'Faible', 'Faible', 'Médiocre', 'Faible', 'Excellent', 'Médiocre', 'Médiocre', 'Faible', 'Très bien', 'Bien', 'Très bien', 'Faible', 'Excellent', 'Bien', 'Excellent', 'Médiocre', 'Faible', 'Très bien', 'Passable', 'Excellent', 'Médiocre', 'Assez-bien', 'Médiocre', 'Médiocre', 'Médiocre', 'Médiocre', 'Très bien', 'Médiocre', 'Assez-bien']\n"
     ]
    }
   ],
   "source": [
    "def atribuer_mentions():\n",
    "    for note in list_note:\n",
    "        if note<=4:\n",
    "            list_mentions.append('Médiocre')\n",
    "        elif note<=9:\n",
    "            list_mentions.append('Faible')\n",
    "        elif note<=11:\n",
    "            list_mentions.append('Passable')\n",
    "        elif note<=13:\n",
    "            list_mentions.append('Assez-bien')\n",
    "        elif note<=15:\n",
    "            list_mentions.append('Bien')\n",
    "        elif note<=17:\n",
    "            list_mentions.append('Très bien')\n",
    "        else:\n",
    "            list_mentions.append('Excellent')\n",
    "    print('La liste des notes est:',list_note)\n",
    "    print('La liste des mentions associés est:',list_mentions)\n",
    "    print(f\"Notes:{list_note}\\nMentions:{list_mentions}\")\n",
    "atribuer_mentions()\n",
    "#Première manière de transformer deux liste en dictionnaire\n",
    "    #res = {} \n",
    "   # for note in list_note: \n",
    "       # for mention in list_mentions: \n",
    "          #  res[note] = mention \n",
    "       #     list_mentions.remove(mention) \n",
    "    #print(res)\n",
    "#Deuxième manière de transformer deux liste en dictionnaire\n",
    "    #res = dict(zip(list_noms, list_mentions)) \n",
    "    #print(res)\n",
    "   \n",
    "        "
   ]
  },
  {
   "cell_type": "code",
   "execution_count": null,
   "id": "e6dacc38",
   "metadata": {},
   "outputs": [],
   "source": []
  }
 ],
 "metadata": {
  "kernelspec": {
   "display_name": "Python 3",
   "language": "python",
   "name": "python3"
  },
  "language_info": {
   "codemirror_mode": {
    "name": "ipython",
    "version": 3
   },
   "file_extension": ".py",
   "mimetype": "text/x-python",
   "name": "python",
   "nbconvert_exporter": "python",
   "pygments_lexer": "ipython3",
   "version": "3.8.8"
  }
 },
 "nbformat": 4,
 "nbformat_minor": 5
}
