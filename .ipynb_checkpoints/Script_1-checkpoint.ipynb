{
 "cells": [
  {
   "cell_type": "code",
   "execution_count": 1,
   "id": "bee7e44e",
   "metadata": {},
   "outputs": [
    {
     "name": "stdout",
     "output_type": "stream",
     "text": [
      "Joseph\n"
     ]
    }
   ],
   "source": [
    "#1) les chaines de caractères\n",
    "nom ='Joseph'\n",
    "print(nom)"
   ]
  },
  {
   "cell_type": "code",
   "execution_count": 3,
   "id": "672921cf",
   "metadata": {},
   "outputs": [
    {
     "name": "stdout",
     "output_type": "stream",
     "text": [
      "Ici nous avons deux filières:\n",
      "Informatique et Télécom\n",
      "ok?\n"
     ]
    }
   ],
   "source": [
    "#2) Ecrire plusieurs lignes\n",
    "#Première méthode\n",
    "texte1 ='Ici nous avons deux filières:\\nInformatique et Télécom\\nok?'\n",
    "print(texte1)"
   ]
  },
  {
   "cell_type": "code",
   "execution_count": 7,
   "id": "c573f60e",
   "metadata": {},
   "outputs": [
    {
     "name": "stdout",
     "output_type": "stream",
     "text": [
      "Ici nous avons deux filières\n",
      "Informatique et Télécom\n",
      "ok?\n"
     ]
    }
   ],
   "source": [
    "#Deuxième méthode\n",
    "texte2 ='''Ici nous avons deux filières\n",
    "Informatique et Télécom\n",
    "ok?'''\n",
    "print(texte2)"
   ]
  },
  {
   "cell_type": "markdown",
   "id": "bebf2804",
   "metadata": {},
   "source": [
    "Les listes"
   ]
  },
  {
   "cell_type": "code",
   "execution_count": 8,
   "id": "5fb942c7",
   "metadata": {},
   "outputs": [
    {
     "name": "stdout",
     "output_type": "stream",
     "text": [
      "[]\n"
     ]
    }
   ],
   "source": [
    "#liste vide\n",
    "liste_1 =[]\n",
    "print(liste_1)"
   ]
  },
  {
   "cell_type": "code",
   "execution_count": 11,
   "id": "90fa0962",
   "metadata": {},
   "outputs": [
    {
     "name": "stdout",
     "output_type": "stream",
     "text": [
      "['Fadilath', 'Emmanuel', 'Josias']\n"
     ]
    }
   ],
   "source": [
    "#liste non vide\n",
    "liste_2 =['Fadilath','Emmanuel','Josias']\n",
    "print(liste_2)"
   ]
  },
  {
   "cell_type": "code",
   "execution_count": 15,
   "id": "737e7b29",
   "metadata": {},
   "outputs": [
    {
     "name": "stdout",
     "output_type": "stream",
     "text": [
      "Fadilath\n"
     ]
    }
   ],
   "source": [
    "#Afficher un élément de la liste\n",
    "print(liste_2[0])"
   ]
  },
  {
   "cell_type": "code",
   "execution_count": 16,
   "id": "a92ba61c",
   "metadata": {},
   "outputs": [
    {
     "name": "stdout",
     "output_type": "stream",
     "text": [
      "4\n"
     ]
    }
   ],
   "source": [
    "#Afficher le nombre d'élément contenu dans une liste\n",
    "print(len(liste_2))"
   ]
  },
  {
   "cell_type": "code",
   "execution_count": 17,
   "id": "fb1d8d53",
   "metadata": {},
   "outputs": [
    {
     "name": "stdout",
     "output_type": "stream",
     "text": [
      "['Fadilath', 'Emmanuel', 'Josias', 'Paul', 'Paul']\n"
     ]
    }
   ],
   "source": [
    "#Ajout d'un élément à la fin d'une liste\n",
    "liste_2.append('Paul')\n",
    "print(liste_2)"
   ]
  },
  {
   "cell_type": "code",
   "execution_count": 19,
   "id": "02682190",
   "metadata": {},
   "outputs": [
    {
     "name": "stdout",
     "output_type": "stream",
     "text": [
      "['Abdias', 'Fadilath', 'Emmanuel', 'Josias', 'Paul', 'Paul']\n"
     ]
    }
   ],
   "source": [
    "#Ajout d'un élément suivant la position\n",
    "liste_2.insert(0,'Abdias')\n",
    "print(liste_2)"
   ]
  },
  {
   "cell_type": "markdown",
   "id": "a386781e",
   "metadata": {},
   "source": [
    "# Les fonctions"
   ]
  },
  {
   "cell_type": "code",
   "execution_count": 20,
   "id": "3da32a5b",
   "metadata": {},
   "outputs": [
    {
     "name": "stdout",
     "output_type": "stream",
     "text": [
      "Je suis au cours\n"
     ]
    }
   ],
   "source": [
    "def affichage():\n",
    "    print('Je suis au cours')\n",
    "    \n",
    "#Appel de la fonction\n",
    "affichage()"
   ]
  },
  {
   "cell_type": "markdown",
   "id": "933ed041",
   "metadata": {},
   "source": [
    "# Les fonctions avec arguments"
   ]
  },
  {
   "cell_type": "code",
   "execution_count": 31,
   "id": "ffaf90b1",
   "metadata": {},
   "outputs": [
    {
     "name": "stdout",
     "output_type": "stream",
     "text": [
      "5\n"
     ]
    }
   ],
   "source": [
    "# Définissons la fonction f(x)= x*x+1\n",
    "def fonc(x):\n",
    "    y= x*x+1\n",
    "    print(y)\n",
    "fonc(2)"
   ]
  },
  {
   "cell_type": "markdown",
   "id": "f72fd262",
   "metadata": {},
   "source": [
    "# Les structures de contôle"
   ]
  },
  {
   "cell_type": "code",
   "execution_count": 33,
   "id": "1bb1b463",
   "metadata": {},
   "outputs": [
    {
     "name": "stdout",
     "output_type": "stream",
     "text": [
      "1\n",
      "2\n",
      "3\n",
      "4\n",
      "5\n",
      "6\n"
     ]
    }
   ],
   "source": [
    "#Ecrivons une fonction qui parcourt une liste et affiche chaque nombre de celle ci +1\n",
    "# la boucle for\n",
    "def parcour():\n",
    "    y=[0,1,2,3,4,5]\n",
    "    for i in y:\n",
    "        print(i+1)\n",
    "parcour()"
   ]
  },
  {
   "cell_type": "code",
   "execution_count": null,
   "id": "b2ee73bb",
   "metadata": {},
   "outputs": [],
   "source": [
    "#Ecrivons une fonction qui parcourt une liste et affiche chaque nombre de celle ci +1\n",
    "# la boucle while\n",
    "def parcour():\n",
    "    y=[0,1,2,3,4,5]\n",
    "    j=0\n",
    "    while j<len(y):\n",
    "        print(y[j]+1)\n",
    "        j=j+1\n",
    "parcour()"
   ]
  },
  {
   "cell_type": "markdown",
   "id": "67e50ecf",
   "metadata": {},
   "source": [
    " # Incrémentation et décrémentation\n",
    "j=j+1 ou j+=1;\n",
    "j=j-1 ou j-=1;\n",
    "a=a*5 ou a*=5;\n",
    "f=f/2 ou f/=2;"
   ]
  },
  {
   "cell_type": "markdown",
   "id": "39f063b6",
   "metadata": {},
   "source": [
    "Exo_jour_1\n"
   ]
  },
  {
   "cell_type": "code",
   "execution_count": 12,
   "id": "5931fad1",
   "metadata": {
    "scrolled": true
   },
   "outputs": [
    {
     "name": "stdout",
     "output_type": "stream",
     "text": [
      "Table de multiplication de 5\n",
      "5 * 0 = 0\n",
      "5 * 1 = 5\n",
      "5 * 2 = 10\n",
      "5 * 3 = 15\n",
      "5 * 4 = 20\n",
      "5 * 5 = 25\n",
      "5 * 6 = 30\n",
      "5 * 7 = 35\n",
      "5 * 8 = 40\n",
      "5 * 9 = 45\n",
      "5 * 10 = 50\n",
      "5 * 11 = 55\n",
      "5 * 12 = 60\n",
      "5 * 13 = 65\n",
      "5 * 14 = 70\n",
      "5 * 15 = 75\n",
      "5 * 16 = 80\n",
      "5 * 17 = 85\n",
      "5 * 18 = 90\n",
      "5 * 19 = 95\n",
      "5 * 20 = 100\n",
      "5 * 21 = 105\n",
      "5 * 22 = 110\n",
      "5 * 23 = 115\n",
      "5 * 24 = 120\n",
      "5 * 25 = 125\n",
      "5 * 26 = 130\n",
      "5 * 27 = 135\n",
      "5 * 28 = 140\n",
      "5 * 29 = 145\n",
      "5 * 30 = 150\n",
      "5 * 31 = 155\n",
      "5 * 32 = 160\n",
      "5 * 33 = 165\n",
      "5 * 34 = 170\n",
      "5 * 35 = 175\n",
      "5 * 36 = 180\n",
      "5 * 37 = 185\n",
      "5 * 38 = 190\n",
      "5 * 39 = 195\n",
      "5 * 40 = 200\n",
      "5 * 41 = 205\n",
      "5 * 42 = 210\n",
      "5 * 43 = 215\n",
      "5 * 44 = 220\n",
      "5 * 45 = 225\n",
      "5 * 46 = 230\n",
      "5 * 47 = 235\n",
      "5 * 48 = 240\n",
      "5 * 49 = 245\n",
      "5 * 50 = 250\n",
      "5 * 51 = 255\n",
      "5 * 52 = 260\n",
      "5 * 53 = 265\n",
      "5 * 54 = 270\n",
      "5 * 55 = 275\n",
      "5 * 56 = 280\n",
      "5 * 57 = 285\n",
      "5 * 58 = 290\n",
      "5 * 59 = 295\n",
      "5 * 60 = 300\n",
      "5 * 61 = 305\n",
      "5 * 62 = 310\n",
      "5 * 63 = 315\n",
      "5 * 64 = 320\n",
      "5 * 65 = 325\n",
      "5 * 66 = 330\n",
      "5 * 67 = 335\n",
      "5 * 68 = 340\n",
      "5 * 69 = 345\n",
      "5 * 70 = 350\n",
      "5 * 71 = 355\n",
      "5 * 72 = 360\n",
      "5 * 73 = 365\n",
      "5 * 74 = 370\n",
      "5 * 75 = 375\n",
      "5 * 76 = 380\n",
      "5 * 77 = 385\n",
      "5 * 78 = 390\n",
      "5 * 79 = 395\n",
      "5 * 80 = 400\n",
      "5 * 81 = 405\n",
      "5 * 82 = 410\n",
      "5 * 83 = 415\n",
      "5 * 84 = 420\n",
      "5 * 85 = 425\n",
      "5 * 86 = 430\n",
      "5 * 87 = 435\n",
      "5 * 88 = 440\n",
      "5 * 89 = 445\n",
      "5 * 90 = 450\n",
      "5 * 91 = 455\n",
      "5 * 92 = 460\n",
      "5 * 93 = 465\n",
      "5 * 94 = 470\n",
      "5 * 95 = 475\n",
      "5 * 96 = 480\n",
      "5 * 97 = 485\n",
      "5 * 98 = 490\n",
      "5 * 99 = 495\n",
      "5 * 100 = 500\n"
     ]
    }
   ],
   "source": [
    "#Ecriture de la table de multiplication de 5 avec la boucle for\n",
    "print('Table de multiplication de 5')\n",
    "for i in range(0,101) :\n",
    "    print('5 *',i,'=',5*i)\n",
    "       \n"
   ]
  },
  {
   "cell_type": "code",
   "execution_count": 1,
   "id": "29830f1a",
   "metadata": {
    "scrolled": true
   },
   "outputs": [
    {
     "name": "stdout",
     "output_type": "stream",
     "text": [
      "Table de multiplication de 5\n",
      "5 * 0 = 0\n",
      "5 * 1 = 5\n",
      "5 * 2 = 10\n",
      "5 * 3 = 15\n",
      "5 * 4 = 20\n",
      "5 * 5 = 25\n",
      "5 * 6 = 30\n",
      "5 * 7 = 35\n",
      "5 * 8 = 40\n",
      "5 * 9 = 45\n",
      "5 * 10 = 50\n",
      "5 * 11 = 55\n",
      "5 * 12 = 60\n",
      "5 * 13 = 65\n",
      "5 * 14 = 70\n",
      "5 * 15 = 75\n",
      "5 * 16 = 80\n",
      "5 * 17 = 85\n",
      "5 * 18 = 90\n",
      "5 * 19 = 95\n",
      "5 * 20 = 100\n",
      "5 * 21 = 105\n",
      "5 * 22 = 110\n",
      "5 * 23 = 115\n",
      "5 * 24 = 120\n",
      "5 * 25 = 125\n",
      "5 * 26 = 130\n",
      "5 * 27 = 135\n",
      "5 * 28 = 140\n",
      "5 * 29 = 145\n",
      "5 * 30 = 150\n",
      "5 * 31 = 155\n",
      "5 * 32 = 160\n",
      "5 * 33 = 165\n",
      "5 * 34 = 170\n",
      "5 * 35 = 175\n",
      "5 * 36 = 180\n",
      "5 * 37 = 185\n",
      "5 * 38 = 190\n",
      "5 * 39 = 195\n",
      "5 * 40 = 200\n",
      "5 * 41 = 205\n",
      "5 * 42 = 210\n",
      "5 * 43 = 215\n",
      "5 * 44 = 220\n",
      "5 * 45 = 225\n",
      "5 * 46 = 230\n",
      "5 * 47 = 235\n",
      "5 * 48 = 240\n",
      "5 * 49 = 245\n",
      "5 * 50 = 250\n",
      "5 * 51 = 255\n",
      "5 * 52 = 260\n",
      "5 * 53 = 265\n",
      "5 * 54 = 270\n",
      "5 * 55 = 275\n",
      "5 * 56 = 280\n",
      "5 * 57 = 285\n",
      "5 * 58 = 290\n",
      "5 * 59 = 295\n",
      "5 * 60 = 300\n",
      "5 * 61 = 305\n",
      "5 * 62 = 310\n",
      "5 * 63 = 315\n",
      "5 * 64 = 320\n",
      "5 * 65 = 325\n",
      "5 * 66 = 330\n",
      "5 * 67 = 335\n",
      "5 * 68 = 340\n",
      "5 * 69 = 345\n",
      "5 * 70 = 350\n",
      "5 * 71 = 355\n",
      "5 * 72 = 360\n",
      "5 * 73 = 365\n",
      "5 * 74 = 370\n",
      "5 * 75 = 375\n",
      "5 * 76 = 380\n",
      "5 * 77 = 385\n",
      "5 * 78 = 390\n",
      "5 * 79 = 395\n",
      "5 * 80 = 400\n",
      "5 * 81 = 405\n",
      "5 * 82 = 410\n",
      "5 * 83 = 415\n",
      "5 * 84 = 420\n",
      "5 * 85 = 425\n",
      "5 * 86 = 430\n",
      "5 * 87 = 435\n",
      "5 * 88 = 440\n",
      "5 * 89 = 445\n",
      "5 * 90 = 450\n",
      "5 * 91 = 455\n",
      "5 * 92 = 460\n",
      "5 * 93 = 465\n",
      "5 * 94 = 470\n",
      "5 * 95 = 475\n",
      "5 * 96 = 480\n",
      "5 * 97 = 485\n",
      "5 * 98 = 490\n",
      "5 * 99 = 495\n",
      "5 * 100 = 500\n"
     ]
    }
   ],
   "source": [
    "#Ecriture de la table de multiplication de 5 avec la boucle while\n",
    "print('Table de multiplication de 5')\n",
    "i=0\n",
    "while i<101 :\n",
    "    print('5 *',i,'=',5*i)\n",
    "    i+=1"
   ]
  },
  {
   "cell_type": "code",
   "execution_count": 15,
   "id": "849fcc51",
   "metadata": {},
   "outputs": [
    {
     "name": "stdout",
     "output_type": "stream",
     "text": [
      "Entrez le valeur du nombre dont vous voulez afficher la TM : 28\n",
      "Table de multiplication de 28\n",
      "28 * 0 = 0\n",
      "28 * 1 = 28\n",
      "28 * 2 = 56\n",
      "28 * 3 = 84\n",
      "28 * 4 = 112\n",
      "28 * 5 = 140\n",
      "28 * 6 = 168\n",
      "28 * 7 = 196\n",
      "28 * 8 = 224\n",
      "28 * 9 = 252\n",
      "28 * 10 = 280\n",
      "28 * 11 = 308\n",
      "28 * 12 = 336\n",
      "28 * 13 = 364\n",
      "28 * 14 = 392\n",
      "28 * 15 = 420\n"
     ]
    }
   ],
   "source": [
    "#Ecriture de la table de multiplication de 5 avec la boucle for\n",
    "a=int(input('Entrez le valeur du nombre dont vous voulez afficher la TM : '))\n",
    "print('Table de multiplication de', str(a))\n",
    "for i in range(0,16) :\n",
    "    print(str(a),'*',str(i),'=',str(a*i))\n",
    "    \n",
    "    "
   ]
  },
  {
   "cell_type": "code",
   "execution_count": 26,
   "id": "c4a9c155",
   "metadata": {},
   "outputs": [
    {
     "name": "stdout",
     "output_type": "stream",
     "text": [
      "Table de soustration de 83\n",
      "83 - 1 = 82\n",
      "83 - 4 = 79\n",
      "83 - 7 = 76\n",
      "83 - 10 = 73\n",
      "83 - 13 = 70\n",
      "83 - 16 = 67\n",
      "83 - 19 = 64\n"
     ]
    }
   ],
   "source": [
    "print('Table de soustration de 83')\n",
    "i=1\n",
    "while i<=20 :\n",
    "    print('83 - '+ str(i)+' = '+ str(83-i))\n",
    "    i+=3"
   ]
  },
  {
   "cell_type": "markdown",
   "id": "80d942b7",
   "metadata": {},
   "source": [
    "# Les dictionnaires\n",
    "Elles permettent de modéliser un tableau de données\n",
    "Définition d'un dictionnaire\n",
    "nomdic={'clé':'valeur'}\n"
   ]
  },
  {
   "cell_type": "code",
   "execution_count": 66,
   "id": "08074a04",
   "metadata": {},
   "outputs": [
    {
     "name": "stdout",
     "output_type": "stream",
     "text": [
      "{'nom': 'Codjo', 'age': 18}\n"
     ]
    }
   ],
   "source": [
    "dic1={'nom':\"Codjo\",'age':18}\n",
    "dic2={'nom':'MARTHE','age':10}\n",
    "dic3={'nom':'ELIZE','age':33}\n",
    "dic4={'nom':'FATOU','age':8}\n",
    "dic5={'nom':'BIO','age':65}\n",
    "dic6={'nom':'TOTO','age':45}\n",
    "dic7={'nom':'LERE','age':26}\n",
    "dic8={'nom':'SEKIMAN','age':24}\n",
    "dic9={'nom':'AFOUE','age':30}\n",
    "dic10={'nom':'MONELLE','age':9}\n",
    "print(dic1)"
   ]
  },
  {
   "cell_type": "code",
   "execution_count": 67,
   "id": "acc9e2a3",
   "metadata": {},
   "outputs": [
    {
     "name": "stdout",
     "output_type": "stream",
     "text": [
      "[{'nom': 'Codjo', 'age': 18}, {'nom': 'MARTHE', 'age': 10}, {'nom': 'ELIZE', 'age': 33}, {'nom': 'FATOU', 'age': 8}, {'nom': 'BIO', 'age': 65}, {'nom': 'TOTO', 'age': 45}, {'nom': 'LERE', 'age': 26}, {'nom': 'SEKIMAN', 'age': 24}, {'nom': 'AFOUE', 'age': 30}, {'nom': 'MONELLE', 'age': 9}]\n"
     ]
    }
   ],
   "source": [
    "liste_dico=[]\n",
    "liste_dico.append(dic1)\n",
    "liste_dico.append(dic2)\n",
    "liste_dico.append(dic3)\n",
    "liste_dico.append(dic4)\n",
    "liste_dico.append(dic5)\n",
    "liste_dico.append(dic6)\n",
    "liste_dico.append(dic7)\n",
    "liste_dico.append(dic8)\n",
    "liste_dico.append(dic9)\n",
    "liste_dico.append(dic10)\n",
    "print (liste_dico)"
   ]
  },
  {
   "cell_type": "code",
   "execution_count": 68,
   "id": "96bd72aa",
   "metadata": {},
   "outputs": [
    {
     "name": "stdout",
     "output_type": "stream",
     "text": [
      "MARTHE\n",
      "FATOU\n",
      "MONELLE\n"
     ]
    }
   ],
   "source": [
    "def mineur():\n",
    "    for l in liste_dico:\n",
    "        if l['age']<18:\n",
    "            print(l['nom'])            \n",
    "mineur()"
   ]
  },
  {
   "cell_type": "raw",
   "id": "25847c8c",
   "metadata": {},
   "source": [
    "On ssouhaite ajouter à tous les dictionnaires une variable status qui renseigne si l'individus est mineur ou majeur puis afficher de manière esthétique le contenu de la liste des dico(sous tableau).\n",
    "Moins de 18 mineur; entre 18 et 30 jeune; à partir de 30 à l'infini adulte."
   ]
  },
  {
   "cell_type": "code",
   "execution_count": 78,
   "id": "1079f7af",
   "metadata": {},
   "outputs": [
    {
     "name": "stdout",
     "output_type": "stream",
     "text": [
      "Codjo | 18 | jeune\n",
      "MARTHE | 10 | mineur\n",
      "ELIZE | 33 | adulte\n",
      "FATOU | 8 | mineur\n",
      "BIO | 65 | adulte\n",
      "TOTO | 45 | adulte\n",
      "LERE | 26 | jeune\n",
      "SEKIMAN | 24 | jeune\n",
      "AFOUE | 30 | adulte\n",
      "MONELLE | 9 | mineur\n"
     ]
    }
   ],
   "source": [
    "def ajout_statut():\n",
    "    for l in liste_dico:\n",
    "        if l['age']<18:\n",
    "            l['statut']= 'mineur'\n",
    "        elif l['age']<30:\n",
    "              l['statut']= 'jeune'\n",
    "        else:\n",
    "           l['statut']='adulte' \n",
    "    for e in liste_dico:\n",
    "        print(e['nom'],'|',e['age'],'|',e['statut'])\n",
    "ajout_statut()"
   ]
  },
  {
   "cell_type": "markdown",
   "id": "820ff1cc",
   "metadata": {},
   "source": [
    "###Les classes"
   ]
  },
  {
   "cell_type": "code",
   "execution_count": 8,
   "id": "0de34e3c",
   "metadata": {},
   "outputs": [],
   "source": [
    "class Personne:\n",
    "    def __init__(self):\n",
    "        self.nom='Dupond'\n",
    "        self.prenom='Roger'\n",
    "        self.age=31\n",
    "        self.ville='Calavi'"
   ]
  },
  {
   "cell_type": "code",
   "execution_count": 9,
   "id": "acec6ee3",
   "metadata": {},
   "outputs": [
    {
     "name": "stdout",
     "output_type": "stream",
     "text": [
      "Dupond\n",
      "Roger\n",
      "31\n",
      "Calavi\n"
     ]
    }
   ],
   "source": [
    "#création d'un objet nommé élève à partir de la classe personne\n",
    "eleve= Personne()\n",
    "#Affichage des attribut d'élève\n",
    "print(eleve.nom)\n",
    "print(eleve.prenom)\n",
    "print(eleve.age)\n",
    "print(eleve.ville)"
   ]
  },
  {
   "cell_type": "code",
   "execution_count": 12,
   "id": "6bcd022c",
   "metadata": {},
   "outputs": [
    {
     "name": "stdout",
     "output_type": "stream",
     "text": [
      "sophia\n"
     ]
    }
   ],
   "source": [
    "# Création d'une classe avec des attribut variable\n",
    "class Individu:\n",
    "    def __init__(self,nom,prenom):\n",
    "        self.nom=nom\n",
    "        self.prenom=prenom\n",
    "etudiant1=Individu(nom='maïssa',prenom='sophia')\n",
    "print(etudiant1.prenom)"
   ]
  },
  {
   "cell_type": "code",
   "execution_count": 17,
   "id": "7ae4e87e",
   "metadata": {
    "scrolled": true
   },
   "outputs": [
    {
     "name": "stdout",
     "output_type": "stream",
     "text": [
      "0\n"
     ]
    }
   ],
   "source": [
    "class Vecteur:\n",
    "    def __init__(self,x,y):\n",
    "        self.x=x\n",
    "        self.y=y\n",
    "    def somme(self):\n",
    "        calcul=self.x+self.y\n",
    "        return calcul\n",
    "\n",
    "u = Vecteur(x=1,y=-1)\n",
    "print(u.somme())\n",
    "    "
   ]
  },
  {
   "cell_type": "code",
   "execution_count": null,
   "id": "cd239342",
   "metadata": {},
   "outputs": [],
   "source": []
  }
 ],
 "metadata": {
  "kernelspec": {
   "display_name": "Python 3",
   "language": "python",
   "name": "python3"
  },
  "language_info": {
   "codemirror_mode": {
    "name": "ipython",
    "version": 3
   },
   "file_extension": ".py",
   "mimetype": "text/x-python",
   "name": "python",
   "nbconvert_exporter": "python",
   "pygments_lexer": "ipython3",
   "version": "3.8.8"
  }
 },
 "nbformat": 4,
 "nbformat_minor": 5
}
